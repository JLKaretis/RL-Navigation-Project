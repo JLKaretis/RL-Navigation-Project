{
 "cells": [
  {
   "cell_type": "markdown",
   "metadata": {},
   "source": [
    "# Report\n",
    "\n",
    "---\n",
    "\n",
    "### Introduction\n",
    "\n",
    "That project explores the use of the [classic DQN reinforcement learning (Mnih, 2015)](https://files.davidqiu.com//research/nature14236.pdf) algorithm to solve a Unity game. The goal is for the agent to navigate a 3D environment to collect yellow bananas (reward +1) while avoiding black bananas (reward -1). We consider the game solved when an average score of 13 is reached over 100 playing episodes.\n",
    "\n",
    "The DQN algorithms built on the idea of Q-learning, which uses the Temporal Difference method to approximate tha action-value function Q. Actions are taken by a greedy policy that maximize the action-value. The epsilon-greedy policy is used to ensure sufficient exploration of the state-action space in the initial stages of training.\n",
    "\n",
    "(Mnih, 2015) implementation of the DQN algorithms uses a neural network as a function approximator, which let the agent learn in large, continuous spaces, without a need for discretization. In order to train the neural network efficiently, (Mnih, 2015) makes uses of the technique of experience replay, which let the agent learn from past episodes and breaks the time dependency between episodes, as well as the technique of using two identical networks, called local and target, for learning and for action-value estimation. Both networked are synchronized every few steps during the soft update process.\n",
    "\n",
    "We'll also compare the performance of the classic DQN with several variations of the algorithm:\n",
    "\n",
    "- [Double DQN (DDQN) (Hasselt, 2015)](https://arxiv.org/abs/1509.06461) DDQN introduce a clever modification in how the action-value are estimated, by using both the local network to select the action and using the target network to estimate it's value. The modification is supposed to stabilize the learning.\n",
    "- [Prioritized Experience Replay DDQN (PER-DDQN) (Schaul, 2015)](https://arxiv.org/abs/1511.05952) PER changed the way the past experiences are replayed, by putting a higher sampling weight on experiences with a higher TD error (more \"unexpected\" experiences). The change is supposed to lead to higher learning efficiency.\n",
    "- [Dueling Networks DDQN (also using Prioritized Experience Replay) (Dueling-DDQN) (Wang, 2015)](https://arxiv.org/abs/1511.06581) Dueling networks split the action-value function into two sub-functions: value and action advantage, which are then compared to find the action-value. Both functions and the comparison are implemented with a single neural network, so the gradient updates are done end-to-end in one pass. \n",
    "\n",
    "### 0. Algorithms\n",
    "\n",
    "For comparison purposes, all the algorithms use the same neural network:\n",
    "\n",
    "- Takes state variable as input\n",
    "- 2x hidden layers of size 64\n",
    "- 1 output layer of the size of the action space\n",
    "- ReLu activation functions\n",
    "\n",
    "For the dueling networks architecture, the value and action advantage network share the first hidden layer but have separate second layer and output layers. The action advantage layer is normalized by the mean as in (Wang, 2015)  \n",
    "\n",
    "#### Hyper parameters\n",
    "\n",
    "Replay buffer size:\n",
    "BUFFER_SIZE = int(1e5)  \n",
    "Minibatch size:\n",
    "BATCH_SIZE = 64        \n",
    "Discount factor:\n",
    "GAMMA = 0.99            \n",
    "Soft update of target parameter:\n",
    "TAU = 1e-3              \n",
    "Learning rate for Adam optimizer:\n",
    "LR = 5e-4               \n",
    "How often to update the target network with local network weights\n",
    "UPDATE_EVERY = 4        \n",
    "Number of training episodes:\n",
    "n_episodes=2000\n",
    "Maximum duration of episode:\n",
    "max_t=1000\n",
    "Epsilon for eplison greedy policy:\n",
    "eps_start=1.0\n",
    "eps_end=0.01\n",
    "eps_decay=0.995\n",
    "\n",
    "For prioritized experience replay:\n",
    "ALPHA = 0.5  \n",
    "BETA = 0.1, updated to BETA = BETA**(1-BETA) at each training iteration (converges to BETA = 1)\n",
    "\n",
    "### 1. Unity Environment\n",
    "\n",
    "Run the next code cell to install a few packages.  This line will take a few minutes to run!"
   ]
  },
  {
   "cell_type": "code",
   "execution_count": 2,
   "metadata": {},
   "outputs": [
    {
     "name": "stdout",
     "output_type": "stream",
     "text": [
      "\u001b[31mjupyter-console 6.2.0 has requirement prompt-toolkit!=3.0.0,!=3.0.1,<3.1.0,>=2.0.0, but you'll have prompt-toolkit 1.0.15 which is incompatible.\u001b[0m\r\n"
     ]
    }
   ],
   "source": [
    "!pip -q install ./python"
   ]
  },
  {
   "cell_type": "markdown",
   "metadata": {},
   "source": [
    "Load the Unity environment"
   ]
  },
  {
   "cell_type": "code",
   "execution_count": 1,
   "metadata": {},
   "outputs": [
    {
     "name": "stderr",
     "output_type": "stream",
     "text": [
      "INFO:unityagents:\n",
      "'Academy' started successfully!\n",
      "Unity Academy name: Academy\n",
      "        Number of Brains: 1\n",
      "        Number of External Brains : 1\n",
      "        Lesson number : 0\n",
      "        Reset Parameters :\n",
      "\t\t\n",
      "Unity brain name: BananaBrain\n",
      "        Number of Visual Observations (per agent): 0\n",
      "        Vector Observation space type: continuous\n",
      "        Vector Observation space size (per agent): 37\n",
      "        Number of stacked Vector Observation: 1\n",
      "        Vector Action space type: discrete\n",
      "        Vector Action space size (per agent): 4\n",
      "        Vector Action descriptions: , , , \n"
     ]
    }
   ],
   "source": [
    "from unityagents import UnityEnvironment\n",
    "import numpy as np\n",
    "\n",
    "# please do not modify the line below\n",
    "env = UnityEnvironment(file_name=\"/data/Banana_Linux_NoVis/Banana.x86_64\")"
   ]
  },
  {
   "cell_type": "markdown",
   "metadata": {},
   "source": [
    "Environments contain **_brains_** which are responsible for deciding the actions of their associated agents. Here we check for the first brain available, and set it as the default brain we will be controlling from Python."
   ]
  },
  {
   "cell_type": "code",
   "execution_count": 2,
   "metadata": {},
   "outputs": [],
   "source": [
    "# get the default brain\n",
    "brain_name = env.brain_names[0]\n",
    "brain = env.brains[brain_name]"
   ]
  },
  {
   "cell_type": "markdown",
   "metadata": {},
   "source": [
    "### 2. State and Action Spaces\n",
    "\n",
    "Run the code cell below to print some information about the environment: action size and state size."
   ]
  },
  {
   "cell_type": "code",
   "execution_count": 3,
   "metadata": {},
   "outputs": [
    {
     "name": "stdout",
     "output_type": "stream",
     "text": [
      "Number of agents: 1\n",
      "Number of actions: 4\n",
      "States look like: [1.         0.         0.         0.         0.84408134 0.\n",
      " 0.         1.         0.         0.0748472  0.         1.\n",
      " 0.         0.         0.25755    1.         0.         0.\n",
      " 0.         0.74177343 0.         1.         0.         0.\n",
      " 0.25854847 0.         0.         1.         0.         0.09355672\n",
      " 0.         1.         0.         0.         0.31969345 0.\n",
      " 0.        ]\n",
      "States have length: 37\n"
     ]
    }
   ],
   "source": [
    "# reset the environment\n",
    "env_info = env.reset(train_mode=True)[brain_name]\n",
    "\n",
    "# number of agents in the environment\n",
    "print('Number of agents:', len(env_info.agents))\n",
    "\n",
    "# number of actions\n",
    "action_size = brain.vector_action_space_size\n",
    "print('Number of actions:', action_size)\n",
    "\n",
    "# examine the state space \n",
    "state = env_info.vector_observations[0]\n",
    "print('States look like:', state)\n",
    "state_size = len(state)\n",
    "print('States have length:', state_size)"
   ]
  },
  {
   "cell_type": "markdown",
   "metadata": {},
   "source": [
    "### 3. Model Training"
   ]
  },
  {
   "cell_type": "code",
   "execution_count": 4,
   "metadata": {},
   "outputs": [],
   "source": [
    "from collections import deque\n",
    "import matplotlib.pyplot as plt\n",
    "import time\n",
    "import torch\n",
    "%matplotlib inline"
   ]
  },
  {
   "cell_type": "code",
   "execution_count": 5,
   "metadata": {},
   "outputs": [],
   "source": [
    "# training loop function\n",
    "def rl_training(agent, n_episodes=1500, max_t=1000, eps_start=1.0, eps_end=0.01, eps_decay=0.995):\n",
    "    \"\"\"Deep Q-Learning.\n",
    "    \n",
    "    Params\n",
    "    ======\n",
    "        n_episodes (int): maximum number of training episodes\n",
    "        max_t (int): maximum number of timesteps per episode\n",
    "        eps_start (float): starting value of epsilon, for epsilon-greedy action selection\n",
    "        eps_end (float): minimum value of epsilon\n",
    "        eps_decay (float): multiplicative factor (per episode) for decreasing epsilon\n",
    "        agent: the RL agent\n",
    "    \"\"\"\n",
    "    scores = []                        # list containing scores from each episode\n",
    "    scores_window = deque(maxlen=100)  # last 100 scores\n",
    "    eps = eps_start                    # initialize epsilon\n",
    "    for i_episode in range(1, n_episodes+1):\n",
    "        env_info = env.reset(train_mode=True)[brain_name] # reset the environment\n",
    "        state = env_info.vector_observations[0] \n",
    "        score = 0\n",
    "        for t in range(max_t):\n",
    "            action = agent.act(state, eps)\n",
    "            env_info = env.step(action)[brain_name]        # send the action to the environment\n",
    "            next_state = env_info.vector_observations[0]   # get the next state\n",
    "            reward = env_info.rewards[0]                   # get the reward\n",
    "            done = env_info.local_done[0] \n",
    "            \n",
    "            agent.step(state, action, reward, next_state, done)\n",
    "            \n",
    "            state = next_state\n",
    "            score += reward\n",
    "            if done:\n",
    "                break \n",
    "        scores_window.append(score)       # save most recent score\n",
    "        scores.append(score)              # save most recent score\n",
    "        eps = max(eps_end, eps_decay*eps) # decrease epsilon\n",
    "        print('\\rEpisode {}\\tAverage Score: {:.2f}'.format(i_episode, np.mean(scores_window)), end=\"\")\n",
    "        if i_episode % 100 == 0:\n",
    "            print('\\rEpisode {}\\tAverage Score: {:.2f}'.format(i_episode, np.mean(scores_window)))\n",
    "        if (i_episode % 100 == 0) and (np.mean(scores_window)>=15):\n",
    "            print('\\nEnvironment solved in {:d} episodes!\\tAverage Score: {:.2f}'.format(i_episode-100, np.mean(scores_window)))\n",
    "            torch.save(agent.qnetwork_local.state_dict(), '{}_checkpoint.pth'.format(agent))\n",
    "    return scores"
   ]
  },
  {
   "cell_type": "markdown",
   "metadata": {},
   "source": [
    "Load the RL agents and initialize them"
   ]
  },
  {
   "cell_type": "code",
   "execution_count": 6,
   "metadata": {},
   "outputs": [],
   "source": [
    "from dqn_agent import Agent as dqn\n",
    "from doubledqn_agent import Agent as ddqn\n",
    "from prioritized_ddqn import Agent as perddqn\n",
    "\n",
    "dqn = dqn(state_size=state_size, action_size=action_size, seed=0)\n",
    "ddqn = ddqn(state_size=state_size, action_size=action_size, seed=0)\n",
    "perddqn = perddqn(state_size=state_size, action_size=action_size, seed=0)"
   ]
  },
  {
   "cell_type": "markdown",
   "metadata": {},
   "source": [
    "Start training and vizualize scores"
   ]
  },
  {
   "cell_type": "code",
   "execution_count": 7,
   "metadata": {},
   "outputs": [
    {
     "name": "stdout",
     "output_type": "stream",
     "text": [
      "Episode 100\tAverage Score: 1.00\n",
      "Episode 200\tAverage Score: 4.52\n",
      "Episode 300\tAverage Score: 8.26\n",
      "Episode 400\tAverage Score: 9.80\n",
      "Episode 500\tAverage Score: 11.98\n",
      "Episode 600\tAverage Score: 13.07\n",
      "Episode 700\tAverage Score: 14.77\n",
      "Episode 800\tAverage Score: 15.38\n",
      "\n",
      "Environment solved in 700 episodes!\tAverage Score: 15.38\n",
      "Episode 900\tAverage Score: 15.92\n",
      "\n",
      "Environment solved in 800 episodes!\tAverage Score: 15.92\n",
      "Episode 1000\tAverage Score: 16.17\n",
      "\n",
      "Environment solved in 900 episodes!\tAverage Score: 16.17\n",
      "Episode 1100\tAverage Score: 15.47\n",
      "\n",
      "Environment solved in 1000 episodes!\tAverage Score: 15.47\n",
      "Episode 1200\tAverage Score: 15.76\n",
      "\n",
      "Environment solved in 1100 episodes!\tAverage Score: 15.76\n",
      "Episode 1300\tAverage Score: 15.48\n",
      "\n",
      "Environment solved in 1200 episodes!\tAverage Score: 15.48\n",
      "Episode 1400\tAverage Score: 15.99\n",
      "\n",
      "Environment solved in 1300 episodes!\tAverage Score: 15.99\n",
      "Episode 1500\tAverage Score: 15.31\n",
      "\n",
      "Environment solved in 1400 episodes!\tAverage Score: 15.31\n",
      "Total training time: 1235.4707 seconds\n"
     ]
    },
    {
     "data": {
      "image/png": "[encoded data removed]",
      "text/plain": [
       "<matplotlib.figure.Figure at 0x7f3cf21525f8>"
      ]
     },
     "metadata": {
      "needs_background": "light"
     },
     "output_type": "display_data"
    }
   ],
   "source": [
    "tic = time.perf_counter()\n",
    "dqn_scores = rl_training(dqn)\n",
    "toc = time.perf_counter()\n",
    "print(f\"Total training time: {toc - tic:0.4f} seconds\")\n",
    "\n",
    "# plot the scores\n",
    "fig = plt.figure()\n",
    "ax = fig.add_subplot(111)\n",
    "plt.plot(np.arange(len(dqn_scores)), dqn_scores)\n",
    "plt.ylabel('DQN Score')\n",
    "plt.xlabel('Episode #')\n",
    "plt.show()"
   ]
  },
  {
   "cell_type": "code",
   "execution_count": 8,
   "metadata": {},
   "outputs": [
    {
     "name": "stdout",
     "output_type": "stream",
     "text": [
      "Episode 100\tAverage Score: 0.61\n",
      "Episode 200\tAverage Score: 3.84\n",
      "Episode 300\tAverage Score: 6.73\n",
      "Episode 400\tAverage Score: 10.56\n",
      "Episode 500\tAverage Score: 13.97\n",
      "Episode 600\tAverage Score: 14.07\n",
      "Episode 700\tAverage Score: 15.72\n",
      "\n",
      "Environment solved in 600 episodes!\tAverage Score: 15.72\n",
      "Episode 800\tAverage Score: 15.66\n",
      "\n",
      "Environment solved in 700 episodes!\tAverage Score: 15.66\n",
      "Episode 900\tAverage Score: 16.28\n",
      "\n",
      "Environment solved in 800 episodes!\tAverage Score: 16.28\n",
      "Episode 1000\tAverage Score: 15.15\n",
      "\n",
      "Environment solved in 900 episodes!\tAverage Score: 15.15\n",
      "Episode 1100\tAverage Score: 15.85\n",
      "\n",
      "Environment solved in 1000 episodes!\tAverage Score: 15.85\n",
      "Episode 1200\tAverage Score: 15.62\n",
      "\n",
      "Environment solved in 1100 episodes!\tAverage Score: 15.62\n",
      "Episode 1300\tAverage Score: 16.49\n",
      "\n",
      "Environment solved in 1200 episodes!\tAverage Score: 16.49\n",
      "Episode 1400\tAverage Score: 16.82\n",
      "\n",
      "Environment solved in 1300 episodes!\tAverage Score: 16.82\n",
      "Episode 1500\tAverage Score: 15.79\n",
      "\n",
      "Environment solved in 1400 episodes!\tAverage Score: 15.79\n",
      "Total training time: 1298.2530 seconds\n"
     ]
    },
    {
     "data": {
      "image/png": "[encoded data removed]",
      "text/plain": [
       "<matplotlib.figure.Figure at 0x7f3ce0723cf8>"
      ]
     },
     "metadata": {
      "needs_background": "light"
     },
     "output_type": "display_data"
    }
   ],
   "source": [
    "tic = time.perf_counter()\n",
    "ddqn_scores = rl_training(ddqn)\n",
    "toc = time.perf_counter()\n",
    "print(f\"Total training time: {toc - tic:0.4f} seconds\")\n",
    "\n",
    "# plot the scores\n",
    "fig = plt.figure()\n",
    "ax = fig.add_subplot(111)\n",
    "plt.plot(np.arange(len(ddqn_scores)), ddqn_scores)\n",
    "plt.ylabel('DDQN Score')\n",
    "plt.xlabel('Episode #')\n",
    "plt.show()"
   ]
  },
  {
   "cell_type": "code",
   "execution_count": 9,
   "metadata": {},
   "outputs": [
    {
     "name": "stdout",
     "output_type": "stream",
     "text": [
      "Episode 100\tAverage Score: 0.76\n",
      "Episode 200\tAverage Score: 3.97\n",
      "Episode 300\tAverage Score: 7.72\n",
      "Episode 400\tAverage Score: 10.94\n",
      "Episode 500\tAverage Score: 13.01\n",
      "Episode 600\tAverage Score: 13.06\n",
      "Episode 700\tAverage Score: 14.28\n",
      "Episode 800\tAverage Score: 15.60\n",
      "\n",
      "Environment solved in 700 episodes!\tAverage Score: 15.60\n",
      "Episode 900\tAverage Score: 15.94\n",
      "\n",
      "Environment solved in 800 episodes!\tAverage Score: 15.94\n",
      "Episode 1000\tAverage Score: 14.91\n",
      "Episode 1100\tAverage Score: 16.38\n",
      "\n",
      "Environment solved in 1000 episodes!\tAverage Score: 16.38\n",
      "Episode 1200\tAverage Score: 16.24\n",
      "\n",
      "Environment solved in 1100 episodes!\tAverage Score: 16.24\n",
      "Episode 1300\tAverage Score: 15.95\n",
      "\n",
      "Environment solved in 1200 episodes!\tAverage Score: 15.95\n",
      "Episode 1400\tAverage Score: 15.44\n",
      "\n",
      "Environment solved in 1300 episodes!\tAverage Score: 15.44\n",
      "Episode 1500\tAverage Score: 16.20\n",
      "\n",
      "Environment solved in 1400 episodes!\tAverage Score: 16.20\n",
      "Total training time: 6663.6201 seconds\n"
     ]
    },
    {
     "data": {
      "image/png": "[encoded data removed]",
      "text/plain": [
       "<matplotlib.figure.Figure at 0x7f3ce01ce080>"
      ]
     },
     "metadata": {
      "needs_background": "light"
     },
     "output_type": "display_data"
    }
   ],
   "source": [
    "tic = time.perf_counter()\n",
    "perddqn_scores = rl_training(perddqn)\n",
    "toc = time.perf_counter()\n",
    "print(f\"Total training time: {toc - tic:0.4f} seconds\")\n",
    "\n",
    "# plot the scores\n",
    "fig = plt.figure()\n",
    "ax = fig.add_subplot(111)\n",
    "plt.plot(np.arange(len(perddqn_scores)), perddqn_scores)\n",
    "plt.ylabel('PER-DDQN Score')\n",
    "plt.xlabel('Episode #')\n",
    "plt.show()"
   ]
  },
  {
   "cell_type": "code",
   "execution_count": 8,
   "metadata": {},
   "outputs": [],
   "source": [
    "from dueling_ddqn import Agent as duelingddqn\n",
    "\n",
    "duelingddqn = duelingddqn(state_size=state_size, action_size=action_size, seed=0)"
   ]
  },
  {
   "cell_type": "code",
   "execution_count": 9,
   "metadata": {
    "scrolled": true
   },
   "outputs": [
    {
     "name": "stdout",
     "output_type": "stream",
     "text": [
      "Episode 100\tAverage Score: 0.33\n",
      "Episode 200\tAverage Score: 3.56\n",
      "Episode 300\tAverage Score: 6.52\n",
      "Episode 400\tAverage Score: 10.49\n",
      "Episode 500\tAverage Score: 12.47\n",
      "Episode 600\tAverage Score: 13.87\n",
      "Episode 700\tAverage Score: 14.14\n",
      "Episode 800\tAverage Score: 14.97\n",
      "Episode 900\tAverage Score: 15.73\n",
      "\n",
      "Environment solved in 800 episodes!\tAverage Score: 15.73\n",
      "Episode 1000\tAverage Score: 16.15\n",
      "\n",
      "Environment solved in 900 episodes!\tAverage Score: 16.15\n",
      "Episode 1100\tAverage Score: 16.38\n",
      "\n",
      "Environment solved in 1000 episodes!\tAverage Score: 16.38\n",
      "Episode 1200\tAverage Score: 15.40\n",
      "\n",
      "Environment solved in 1100 episodes!\tAverage Score: 15.40\n",
      "Episode 1300\tAverage Score: 15.43\n",
      "\n",
      "Environment solved in 1200 episodes!\tAverage Score: 15.43\n",
      "Episode 1400\tAverage Score: 15.63\n",
      "\n",
      "Environment solved in 1300 episodes!\tAverage Score: 15.63\n",
      "Episode 1500\tAverage Score: 15.14\n",
      "\n",
      "Environment solved in 1400 episodes!\tAverage Score: 15.14\n",
      "Total training time: 6699.4016 seconds\n"
     ]
    },
    {
     "data": {
      "image/png": "[encoded data removed]",
      "text/plain": [
       "<matplotlib.figure.Figure at 0x7f1435d5e240>"
      ]
     },
     "metadata": {
      "needs_background": "light"
     },
     "output_type": "display_data"
    }
   ],
   "source": [
    "tic = time.perf_counter()\n",
    "duelingddqn_scores = rl_training(duelingddqn)\n",
    "toc = time.perf_counter()\n",
    "print(f\"Total training time: {toc - tic:0.4f} seconds\")\n",
    "\n",
    "# plot the scores\n",
    "fig = plt.figure()\n",
    "ax = fig.add_subplot(111)\n",
    "plt.plot(np.arange(len(duelingddqn_scores)), duelingddqn_scores)\n",
    "plt.ylabel('Dueling Network Score')\n",
    "plt.xlabel('Episode #')\n",
    "plt.show()"
   ]
  },
  {
   "cell_type": "markdown",
   "metadata": {},
   "source": [
    "### Results & Discussion\n",
    "\n",
    "Overview of the scores:\n",
    "\n",
    "| Agent | Total Training Time | N Episodes to Reach Avg. Score of 13 | Final Avg. Score | Maximum Avg. Score |\n",
    "|:----|:----:|:----:|:----:|----:|\n",
    "|DQN | **1235** | 500 | 15.31 | 16.17|\n",
    "|DDQN | 1298 | **400** | 15.79 | **16.82**|\n",
    "|PER-DDQN | 6664 | **400** | **16.20** | 16.38|\n",
    "|Dueling-PER-DDQN | 6699 | 500 | 15.14 | 16.38|\n",
    "\n",
    "Both Double DQN and Prioritized Experience Replay seem to bring benefits over the vanilla DQN. The picture is less clear about Dueling Networks. \n",
    "\n",
    "However, when looking at the graphs of the scores over time, it's clear than all four algorithms' performance has a lot of variance. Some of that variance is probably due to the stockasticity of the game itself, however some might also be due to the algorithms. When considering the variance in performance, the difference in performance between the four algorithms needs to be caveated: we would need to sample a few training trajectories with different seeds for each agent in order to draw firm conclusions about the relative performance of the algorithms.\n",
    "\n",
    "It's worth noting that the speed at which the agents goes through the episodes is significanlty impacted by prioritized experience replay. It could be improved with more efficient data structures, but the performance hit is likely to remain to some extent because of the additional parameters and need for indexing. At least with the current implementation, it's hard to make a case for using experience replay over the simpler Double DQN. If training time (including time spent tuning hyperparameters) is a factor, it could be better to skip prioritize experience replay.\n",
    "\n",
    "The performance of the dueling network is a little disappointing. Using the (Wang, 2015) implementation doesn't seem to yield meaningful benefits. In our specific case, the dueling network has more parameters than the other deep Q networks, so it could possibly benefit from training for a longer period of time with more episodes."
   ]
  },
  {
   "cell_type": "markdown",
   "metadata": {},
   "source": [
    "### Ideas for future work\n",
    "\n",
    "Additional improvements to the RL agent can be made, for example:\n",
    "\n",
    "- [Asynchronous gradient descent, to stabilize the learning algorithm](https://arxiv.org/abs/1602.01783)\n",
    "- [Learn the distributions of rewards rather than the expectation](https://arxiv.org/abs/1707.06887)\n",
    "- [Improve exploration with noisy networks](https://arxiv.org/abs/1706.10295)\n",
    "\n",
    "In addition to this improvements, the performance could likely be improved by tuning the network architecture and the hyperparameters.  "
   ]
  },
  {
   "cell_type": "code",
   "execution_count": null,
   "metadata": {},
   "outputs": [],
   "source": []
  }
 ],
 "metadata": {
  "kernelspec": {
   "display_name": "Python 3",
   "language": "python",
   "name": "python3"
  },
  "language_info": {
   "codemirror_mode": {
    "name": "ipython",
    "version": 3
   },
   "file_extension": ".py",
   "mimetype": "text/x-python",
   "name": "python",
   "nbconvert_exporter": "python",
   "pygments_lexer": "ipython3",
   "version": "3.6.3"
  }
 },
 "nbformat": 4,
 "nbformat_minor": 2
}
